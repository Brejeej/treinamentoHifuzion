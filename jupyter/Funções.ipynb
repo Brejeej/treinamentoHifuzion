{
 "cells": [
  {
   "cell_type": "markdown",
   "metadata": {},
   "source": [
    "# Funções / Metodos"
   ]
  },
  {
   "cell_type": "code",
   "execution_count": null,
   "metadata": {},
   "outputs": [],
   "source": [
    "def soma(a, b):\n",
    "    print(f'A: {a}', f'B:{b}')\n",
    "    return a + b"
   ]
  },
  {
   "cell_type": "code",
   "execution_count": null,
   "metadata": {},
   "outputs": [],
   "source": [
    "soma(1, 5)"
   ]
  },
  {
   "cell_type": "markdown",
   "metadata": {},
   "source": [
    "## Parâmetros"
   ]
  },
  {
   "cell_type": "code",
   "execution_count": null,
   "metadata": {},
   "outputs": [],
   "source": [
    "soma(a=5, b=1)"
   ]
  },
  {
   "cell_type": "code",
   "execution_count": null,
   "metadata": {},
   "outputs": [],
   "source": [
    "c = (5, 1)\n",
    "d = {'a': 6, 'b': 3}\n",
    "# ARGS, KWARGS\n",
    "soma(*c), soma(**d)"
   ]
  },
  {
   "cell_type": "code",
   "execution_count": null,
   "metadata": {},
   "outputs": [],
   "source": [
    "def soma2(*args):\n",
    "    for i in args:\n",
    "        print(i)\n",
    "    return sum([int(i) for i in args])\n",
    "\n",
    "def soma3(**kwargs):\n",
    "    a = kwargs.get('a', 0)\n",
    "    b = kwargs.get('b', 0)\n",
    "    c = kwargs.get('c', 0)\n",
    "    d = kwargs.get('d', 0)\n",
    "    return sum([a, b, c, d]) # a + b + c + d"
   ]
  },
  {
   "cell_type": "code",
   "execution_count": null,
   "metadata": {},
   "outputs": [],
   "source": [
    "c = (5, 1, 4, '5')\n",
    "\n",
    "d = {'a': 6, \n",
    "     'b': 3, \n",
    "     'c': 7, \n",
    "     'd': 4, \n",
    "     'e': 10}\n",
    "d = dict(a=6, \n",
    "         b=3, \n",
    "         c=7, \n",
    "         d=4, \n",
    "         e=10)\n",
    "\n",
    "# ARGS, KWARGS\n",
    "soma2(*c), soma3(**d)"
   ]
  },
  {
   "cell_type": "code",
   "execution_count": null,
   "metadata": {},
   "outputs": [],
   "source": [
    "def calcular(operacao, *args):\n",
    "    return operacao(*args)\n",
    "\n",
    "def multiplicar(args):\n",
    "    return args[1] * args[2]"
   ]
  },
  {
   "cell_type": "code",
   "execution_count": null,
   "metadata": {},
   "outputs": [],
   "source": [
    "a = (1,2,3)\n",
    "b = lambda x: x * 2\n",
    "\n",
    "def b(x):\n",
    "    return x * 2\n",
    "\n",
    "b(5)\n",
    "calcular(b, a)\n",
    "\n",
    "calcular(multiplicar, *a)"
   ]
  }
 ],
 "metadata": {
  "kernelspec": {
   "display_name": "Python 3",
   "language": "python",
   "name": "python3"
  },
  "language_info": {
   "codemirror_mode": {
    "name": "ipython",
    "version": 3
   },
   "file_extension": ".py",
   "mimetype": "text/x-python",
   "name": "python",
   "nbconvert_exporter": "python",
   "pygments_lexer": "ipython3",
   "version": "3.7.2"
  }
 },
 "nbformat": 4,
 "nbformat_minor": 2
}
