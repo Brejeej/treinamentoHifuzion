{
 "cells": [
  {
   "cell_type": "code",
   "execution_count": 6,
   "metadata": {},
   "outputs": [],
   "source": [
    "class PlanoConta:\n",
    "    def __init__(self, id, nome):\n",
    "        self.id = id\n",
    "        self.nome = nome\n",
    "    def __repr__(self):\n",
    "        return f'ID: {self.id}, NOME: {self.nome}'"
   ]
  },
  {
   "cell_type": "code",
   "execution_count": 7,
   "metadata": {},
   "outputs": [],
   "source": [
    "import random\n",
    "\n",
    "class Cliente:\n",
    "    \n",
    "    def __init__(self, nome, fone, email, conta: PlanoConta):\n",
    "        self.nome = nome.upper()\n",
    "        self.fone = fone\n",
    "        self.email = email.upper()\n",
    "        self.conta = conta\n",
    "        self.credito = 0\n",
    "        self.ir_entregue = False\n",
    "        self._calcularCredito()\n",
    "        \n",
    "    def _calcularCredito(self):\n",
    "        self.credito = random.randrange(1000, 5000)\n",
    "    \n",
    "    def fazerIR(self):\n",
    "        self.ir_entregue = True"
   ]
  },
  {
   "cell_type": "code",
   "execution_count": 13,
   "metadata": {},
   "outputs": [],
   "source": [
    "class William(Cliente):\n",
    "    def __init__(self):\n",
    "        cliente_info = dict(nome='William',\n",
    "                            fone='65999448004',\n",
    "                            email='william@email.com',\n",
    "                            conta=conta)\n",
    "        super().__init__(**cliente_info)\n",
    "    def abrirEmpresa(self):\n",
    "        return f'Sua empresa foi aberta com saldo de crédito de {self.credito}'"
   ]
  },
  {
   "cell_type": "code",
   "execution_count": 17,
   "metadata": {},
   "outputs": [
    {
     "data": {
      "text/plain": [
       "{'nome': 'WILLIAM',\n",
       " 'fone': '65999448004',\n",
       " 'email': 'WILLIAM@EMAIL.COM',\n",
       " 'conta': ID: 10, NOME: Cliente William,\n",
       " 'credito': 1855,\n",
       " 'ir_entregue': False}"
      ]
     },
     "execution_count": 17,
     "metadata": {},
     "output_type": "execute_result"
    }
   ],
   "source": [
    "a = William()\n",
    "a.nome\n",
    "type(a)\n",
    "a.abrirEmpresa()\n",
    "a.__dict__"
   ]
  },
  {
   "cell_type": "code",
   "execution_count": 8,
   "metadata": {},
   "outputs": [
    {
     "data": {
      "text/plain": [
       "ID: 10, NOME: Cliente William"
      ]
     },
     "execution_count": 8,
     "metadata": {},
     "output_type": "execute_result"
    }
   ],
   "source": [
    "conta = PlanoConta(10, 'Cliente William')\n",
    "cliente_info = dict(nome='William',\n",
    "                   fone='65999448004',\n",
    "                   email='william@email.com',\n",
    "                   conta=conta)\n",
    "cliente = Cliente(**cliente_info)\n",
    "cliente.conta"
   ]
  }
 ],
 "metadata": {
  "kernelspec": {
   "display_name": "Python 3",
   "language": "python",
   "name": "python3"
  },
  "language_info": {
   "codemirror_mode": {
    "name": "ipython",
    "version": 3
   },
   "file_extension": ".py",
   "mimetype": "text/x-python",
   "name": "python",
   "nbconvert_exporter": "python",
   "pygments_lexer": "ipython3",
   "version": "3.7.2"
  }
 },
 "nbformat": 4,
 "nbformat_minor": 2
}
